{
  "nbformat": 4,
  "nbformat_minor": 0,
  "metadata": {
    "colab": {
      "name": "Untitled3.ipynb",
      "provenance": [],
      "authorship_tag": "ABX9TyN1rPv8HGbUb4AUAHuCBk0q",
      "include_colab_link": true
    },
    "kernelspec": {
      "name": "python3",
      "display_name": "Python 3"
    },
    "language_info": {
      "name": "python"
    }
  },
  "cells": [
    {
      "cell_type": "markdown",
      "metadata": {
        "id": "view-in-github",
        "colab_type": "text"
      },
      "source": [
        "<a href=\"https://colab.research.google.com/github/shreyash1401/Cureya-Task-1/blob/main/Task%201%20.ipynb\" target=\"_parent\"><img src=\"https://colab.research.google.com/assets/colab-badge.svg\" alt=\"Open In Colab\"/></a>"
      ]
    },
    {
      "cell_type": "markdown",
      "metadata": {
        "id": "yEgxFQDbim0h"
      },
      "source": [
        "2. Github Account Link:\n",
        "\n",
        "    https://github.com/shreyash1401/Cureya-Task-1"
      ]
    },
    {
      "cell_type": "markdown",
      "metadata": {
        "id": "alVUfO9wkV9W"
      },
      "source": [
        "3. Define Dictionaries\n",
        "\n",
        "   Ans: Dictionary is a collection which is unordered, changeable and indexed.It has no duplicate members "
      ]
    },
    {
      "cell_type": "code",
      "metadata": {
        "id": "UOZlFeEMkv63"
      },
      "source": [
        "# Empty Dictionary \n",
        "my_dict = {}"
      ],
      "execution_count": null,
      "outputs": []
    },
    {
      "cell_type": "code",
      "metadata": {
        "id": "AShKaOI9lEzH"
      },
      "source": [
        "# Dictionary with interger keys \n",
        "my_dict = {1: 'apple',2: 'ball'}"
      ],
      "execution_count": null,
      "outputs": []
    },
    {
      "cell_type": "markdown",
      "metadata": {
        "id": "Hd-LYfmogwgr"
      },
      "source": [
        "3. Define List.\n",
        " \n",
        " Ans: List is a collection which is ordered and changeable. It alows duplicate members."
      ]
    },
    {
      "cell_type": "code",
      "metadata": {
        "id": "1BV15f4whazK"
      },
      "source": [
        "#examples of list \n",
        "# Empty List\n",
        "name = []"
      ],
      "execution_count": null,
      "outputs": []
    },
    {
      "cell_type": "code",
      "metadata": {
        "id": "CY-71JoZiMcF"
      },
      "source": [
        "# List with same datatypes\n",
        "number = [1,2,4,53,3]"
      ],
      "execution_count": null,
      "outputs": []
    },
    {
      "cell_type": "code",
      "metadata": {
        "id": "YTc0xmJEiUgN"
      },
      "source": [
        "# List with multiple datatypes\n",
        "data = ['hi', 34, 44.4]"
      ],
      "execution_count": null,
      "outputs": []
    },
    {
      "cell_type": "markdown",
      "metadata": {
        "id": "kKMJvAnPkScj"
      },
      "source": [
        ""
      ]
    }
  ]
}